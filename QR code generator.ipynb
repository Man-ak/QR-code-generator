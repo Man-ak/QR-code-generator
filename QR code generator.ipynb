{
 "cells": [
  {
   "cell_type": "code",
   "execution_count": 1,
   "id": "efa64e2c",
   "metadata": {},
   "outputs": [],
   "source": [
    "import qrcode\n",
    "from tkinter import *\n",
    "\n",
    "cp = Tk()\n",
    "cp.title('QR code Generator.com')\n",
    "cp.geometry('700x250')\n",
    "cp.config(bg='#e52165')\n",
    "\n",
    "def generate():\n",
    "    img = qrcode.make(msg.get())\n",
    "    type(img)\n",
    "    img.save(f'{save_name.get()}.png')\n",
    "    Label(cp, text='File Saved!', bg='#e52165' , fg='black', font=('Arial Black', 8)).pack()\n",
    "\n",
    "def show():\n",
    "    img = qrcode.make(msg.get())\n",
    "    type(img)\n",
    "    img.show()\n",
    "\n",
    "frame = Frame(cp, bg='#e52165')\n",
    "frame.pack(expand=True)\n",
    "\n",
    "#ENTER THE TEXT OR URL\n",
    "\n",
    "Label(frame, text='Enter the Text or URL : ', font=('Arial Black', 16),\n",
    "      bg='#e52165').grid(row=0, column=0, sticky='w')\n",
    "\n",
    "msg = Entry(frame)\n",
    "msg.grid(row=0, column=1)\n",
    "\n",
    "#ENTER THE FILE NAME\n",
    "\n",
    "Label(frame, text='File Name(Save As) : ', font=('Arial Black', 16),\n",
    "      bg='#e52165').grid(row=1, column=0, sticky='w')\n",
    "\n",
    "save_name = Entry(frame)\n",
    "save_name.grid(row=1, column=1)\n",
    "\n",
    "#BUTTONS TO SHOW OR SAVE QRCODE\n",
    "\n",
    "btn = Button(cp, text='Show QR code', bd='5', command=show, width=15)\n",
    "btn.pack()\n",
    "btn = Button(cp, text='Save QR code', command=generate, bd='5', width=15)\n",
    "btn.pack()\n",
    "\n",
    "cp.mainloop()"
   ]
  },
  {
   "cell_type": "code",
   "execution_count": null,
   "id": "0235241e",
   "metadata": {},
   "outputs": [],
   "source": []
  }
 ],
 "metadata": {
  "kernelspec": {
   "display_name": "Python 3 (ipykernel)",
   "language": "python",
   "name": "python3"
  },
  "language_info": {
   "codemirror_mode": {
    "name": "ipython",
    "version": 3
   },
   "file_extension": ".py",
   "mimetype": "text/x-python",
   "name": "python",
   "nbconvert_exporter": "python",
   "pygments_lexer": "ipython3",
   "version": "3.9.13"
  }
 },
 "nbformat": 4,
 "nbformat_minor": 5
}
